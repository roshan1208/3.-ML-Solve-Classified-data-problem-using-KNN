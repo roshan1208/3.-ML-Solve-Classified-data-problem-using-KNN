{
 "cells": [
  {
   "cell_type": "code",
   "execution_count": 1,
   "metadata": {},
   "outputs": [],
   "source": [
    "import numpy as np\n",
    "import pandas as pd\n",
    "import matplotlib.pyplot as plt\n",
    "import seaborn as sns\n",
    "%matplotlib inline"
   ]
  },
  {
   "cell_type": "code",
   "execution_count": 4,
   "metadata": {},
   "outputs": [],
   "source": [
    "df = pd.read_csv('KNN_Project_Data',index_col=0)"
   ]
  },
  {
   "cell_type": "code",
   "execution_count": 5,
   "metadata": {},
   "outputs": [
    {
     "data": {
      "text/html": [
       "<div>\n",
       "<style scoped>\n",
       "    .dataframe tbody tr th:only-of-type {\n",
       "        vertical-align: middle;\n",
       "    }\n",
       "\n",
       "    .dataframe tbody tr th {\n",
       "        vertical-align: top;\n",
       "    }\n",
       "\n",
       "    .dataframe thead th {\n",
       "        text-align: right;\n",
       "    }\n",
       "</style>\n",
       "<table border=\"1\" class=\"dataframe\">\n",
       "  <thead>\n",
       "    <tr style=\"text-align: right;\">\n",
       "      <th></th>\n",
       "      <th>GWYH</th>\n",
       "      <th>TRAT</th>\n",
       "      <th>TLLZ</th>\n",
       "      <th>IGGA</th>\n",
       "      <th>HYKR</th>\n",
       "      <th>EDFS</th>\n",
       "      <th>GUUB</th>\n",
       "      <th>MGJM</th>\n",
       "      <th>JHZC</th>\n",
       "      <th>TARGET CLASS</th>\n",
       "    </tr>\n",
       "    <tr>\n",
       "      <th>XVPM</th>\n",
       "      <th></th>\n",
       "      <th></th>\n",
       "      <th></th>\n",
       "      <th></th>\n",
       "      <th></th>\n",
       "      <th></th>\n",
       "      <th></th>\n",
       "      <th></th>\n",
       "      <th></th>\n",
       "      <th></th>\n",
       "    </tr>\n",
       "  </thead>\n",
       "  <tbody>\n",
       "    <tr>\n",
       "      <th>1636.670614</th>\n",
       "      <td>817.988525</td>\n",
       "      <td>2565.995189</td>\n",
       "      <td>358.347163</td>\n",
       "      <td>550.417491</td>\n",
       "      <td>1618.870897</td>\n",
       "      <td>2147.641254</td>\n",
       "      <td>330.727893</td>\n",
       "      <td>1494.878631</td>\n",
       "      <td>845.136088</td>\n",
       "      <td>0</td>\n",
       "    </tr>\n",
       "    <tr>\n",
       "      <th>1013.402760</th>\n",
       "      <td>577.587332</td>\n",
       "      <td>2644.141273</td>\n",
       "      <td>280.428203</td>\n",
       "      <td>1161.873391</td>\n",
       "      <td>2084.107872</td>\n",
       "      <td>853.404981</td>\n",
       "      <td>447.157619</td>\n",
       "      <td>1193.032521</td>\n",
       "      <td>861.081809</td>\n",
       "      <td>1</td>\n",
       "    </tr>\n",
       "    <tr>\n",
       "      <th>1300.035501</th>\n",
       "      <td>820.518697</td>\n",
       "      <td>2025.854469</td>\n",
       "      <td>525.562292</td>\n",
       "      <td>922.206261</td>\n",
       "      <td>2552.355407</td>\n",
       "      <td>818.676686</td>\n",
       "      <td>845.491492</td>\n",
       "      <td>1968.367513</td>\n",
       "      <td>1647.186291</td>\n",
       "      <td>1</td>\n",
       "    </tr>\n",
       "    <tr>\n",
       "      <th>1059.347542</th>\n",
       "      <td>1066.866418</td>\n",
       "      <td>612.000041</td>\n",
       "      <td>480.827789</td>\n",
       "      <td>419.467495</td>\n",
       "      <td>685.666983</td>\n",
       "      <td>852.867810</td>\n",
       "      <td>341.664784</td>\n",
       "      <td>1154.391368</td>\n",
       "      <td>1450.935357</td>\n",
       "      <td>0</td>\n",
       "    </tr>\n",
       "    <tr>\n",
       "      <th>1018.340526</th>\n",
       "      <td>1313.679056</td>\n",
       "      <td>950.622661</td>\n",
       "      <td>724.742174</td>\n",
       "      <td>843.065903</td>\n",
       "      <td>1370.554164</td>\n",
       "      <td>905.469453</td>\n",
       "      <td>658.118202</td>\n",
       "      <td>539.459350</td>\n",
       "      <td>1899.850792</td>\n",
       "      <td>0</td>\n",
       "    </tr>\n",
       "  </tbody>\n",
       "</table>\n",
       "</div>"
      ],
      "text/plain": [
       "                    GWYH         TRAT        TLLZ         IGGA         HYKR  \\\n",
       "XVPM                                                                          \n",
       "1636.670614   817.988525  2565.995189  358.347163   550.417491  1618.870897   \n",
       "1013.402760   577.587332  2644.141273  280.428203  1161.873391  2084.107872   \n",
       "1300.035501   820.518697  2025.854469  525.562292   922.206261  2552.355407   \n",
       "1059.347542  1066.866418   612.000041  480.827789   419.467495   685.666983   \n",
       "1018.340526  1313.679056   950.622661  724.742174   843.065903  1370.554164   \n",
       "\n",
       "                    EDFS        GUUB         MGJM         JHZC  TARGET CLASS  \n",
       "XVPM                                                                          \n",
       "1636.670614  2147.641254  330.727893  1494.878631   845.136088             0  \n",
       "1013.402760   853.404981  447.157619  1193.032521   861.081809             1  \n",
       "1300.035501   818.676686  845.491492  1968.367513  1647.186291             1  \n",
       "1059.347542   852.867810  341.664784  1154.391368  1450.935357             0  \n",
       "1018.340526   905.469453  658.118202   539.459350  1899.850792             0  "
      ]
     },
     "execution_count": 5,
     "metadata": {},
     "output_type": "execute_result"
    }
   ],
   "source": [
    "df.head()"
   ]
  },
  {
   "cell_type": "code",
   "execution_count": 6,
   "metadata": {},
   "outputs": [],
   "source": [
    "from sklearn.preprocessing import StandardScaler"
   ]
  },
  {
   "cell_type": "code",
   "execution_count": 7,
   "metadata": {},
   "outputs": [],
   "source": [
    "scaler = StandardScaler()"
   ]
  },
  {
   "cell_type": "code",
   "execution_count": 8,
   "metadata": {},
   "outputs": [
    {
     "data": {
      "text/plain": [
       "StandardScaler()"
      ]
     },
     "execution_count": 8,
     "metadata": {},
     "output_type": "execute_result"
    }
   ],
   "source": [
    "scaler.fit(df.drop('TARGET CLASS',axis=1))"
   ]
  },
  {
   "cell_type": "code",
   "execution_count": 9,
   "metadata": {},
   "outputs": [],
   "source": [
    "df_feat = scaler.transform(df.drop('TARGET CLASS',axis=1))"
   ]
  },
  {
   "cell_type": "code",
   "execution_count": 10,
   "metadata": {},
   "outputs": [
    {
     "data": {
      "text/plain": [
       "array([[-0.44343461,  1.61980773, -0.9582548 , ..., -0.93279392,\n",
       "         1.00831307, -1.06962723],\n",
       "       [-1.05657361,  1.7419175 , -1.50422015, ..., -0.46186435,\n",
       "         0.25832069, -1.04154625],\n",
       "       [-0.43698145,  0.77579285,  0.21339413, ...,  1.14929806,\n",
       "         2.1847836 ,  0.34281129],\n",
       "       ...,\n",
       "       [-0.97901454,  0.83771499,  0.01401811, ..., -1.51472604,\n",
       "        -0.27512225,  0.86428656],\n",
       "       [-0.99239881,  0.0303711 ,  1.06295359, ..., -0.03623294,\n",
       "         0.43668516, -0.21245586],\n",
       "       [ 0.79510909,  1.12180047,  1.18594424, ..., -1.25156478,\n",
       "        -0.60352946, -0.87985868]])"
      ]
     },
     "execution_count": 10,
     "metadata": {},
     "output_type": "execute_result"
    }
   ],
   "source": [
    "df_feat"
   ]
  },
  {
   "cell_type": "code",
   "execution_count": 11,
   "metadata": {},
   "outputs": [],
   "source": [
    "df_feature = pd.DataFrame(df_feat,columns=df.columns[:-1])"
   ]
  },
  {
   "cell_type": "code",
   "execution_count": 12,
   "metadata": {},
   "outputs": [
    {
     "data": {
      "text/html": [
       "<div>\n",
       "<style scoped>\n",
       "    .dataframe tbody tr th:only-of-type {\n",
       "        vertical-align: middle;\n",
       "    }\n",
       "\n",
       "    .dataframe tbody tr th {\n",
       "        vertical-align: top;\n",
       "    }\n",
       "\n",
       "    .dataframe thead th {\n",
       "        text-align: right;\n",
       "    }\n",
       "</style>\n",
       "<table border=\"1\" class=\"dataframe\">\n",
       "  <thead>\n",
       "    <tr style=\"text-align: right;\">\n",
       "      <th></th>\n",
       "      <th>GWYH</th>\n",
       "      <th>TRAT</th>\n",
       "      <th>TLLZ</th>\n",
       "      <th>IGGA</th>\n",
       "      <th>HYKR</th>\n",
       "      <th>EDFS</th>\n",
       "      <th>GUUB</th>\n",
       "      <th>MGJM</th>\n",
       "      <th>JHZC</th>\n",
       "    </tr>\n",
       "  </thead>\n",
       "  <tbody>\n",
       "    <tr>\n",
       "      <th>0</th>\n",
       "      <td>-0.443435</td>\n",
       "      <td>1.619808</td>\n",
       "      <td>-0.958255</td>\n",
       "      <td>-1.128481</td>\n",
       "      <td>0.138336</td>\n",
       "      <td>0.980493</td>\n",
       "      <td>-0.932794</td>\n",
       "      <td>1.008313</td>\n",
       "      <td>-1.069627</td>\n",
       "    </tr>\n",
       "    <tr>\n",
       "      <th>1</th>\n",
       "      <td>-1.056574</td>\n",
       "      <td>1.741918</td>\n",
       "      <td>-1.504220</td>\n",
       "      <td>0.640009</td>\n",
       "      <td>1.081552</td>\n",
       "      <td>-1.182663</td>\n",
       "      <td>-0.461864</td>\n",
       "      <td>0.258321</td>\n",
       "      <td>-1.041546</td>\n",
       "    </tr>\n",
       "    <tr>\n",
       "      <th>2</th>\n",
       "      <td>-0.436981</td>\n",
       "      <td>0.775793</td>\n",
       "      <td>0.213394</td>\n",
       "      <td>-0.053171</td>\n",
       "      <td>2.030872</td>\n",
       "      <td>-1.240707</td>\n",
       "      <td>1.149298</td>\n",
       "      <td>2.184784</td>\n",
       "      <td>0.342811</td>\n",
       "    </tr>\n",
       "    <tr>\n",
       "      <th>3</th>\n",
       "      <td>0.191324</td>\n",
       "      <td>-1.433473</td>\n",
       "      <td>-0.100053</td>\n",
       "      <td>-1.507223</td>\n",
       "      <td>-1.753632</td>\n",
       "      <td>-1.183561</td>\n",
       "      <td>-0.888557</td>\n",
       "      <td>0.162310</td>\n",
       "      <td>-0.002793</td>\n",
       "    </tr>\n",
       "    <tr>\n",
       "      <th>4</th>\n",
       "      <td>0.820815</td>\n",
       "      <td>-0.904346</td>\n",
       "      <td>1.609015</td>\n",
       "      <td>-0.282065</td>\n",
       "      <td>-0.365099</td>\n",
       "      <td>-1.095644</td>\n",
       "      <td>0.391419</td>\n",
       "      <td>-1.365603</td>\n",
       "      <td>0.787762</td>\n",
       "    </tr>\n",
       "  </tbody>\n",
       "</table>\n",
       "</div>"
      ],
      "text/plain": [
       "       GWYH      TRAT      TLLZ      IGGA      HYKR      EDFS      GUUB  \\\n",
       "0 -0.443435  1.619808 -0.958255 -1.128481  0.138336  0.980493 -0.932794   \n",
       "1 -1.056574  1.741918 -1.504220  0.640009  1.081552 -1.182663 -0.461864   \n",
       "2 -0.436981  0.775793  0.213394 -0.053171  2.030872 -1.240707  1.149298   \n",
       "3  0.191324 -1.433473 -0.100053 -1.507223 -1.753632 -1.183561 -0.888557   \n",
       "4  0.820815 -0.904346  1.609015 -0.282065 -0.365099 -1.095644  0.391419   \n",
       "\n",
       "       MGJM      JHZC  \n",
       "0  1.008313 -1.069627  \n",
       "1  0.258321 -1.041546  \n",
       "2  2.184784  0.342811  \n",
       "3  0.162310 -0.002793  \n",
       "4 -1.365603  0.787762  "
      ]
     },
     "execution_count": 12,
     "metadata": {},
     "output_type": "execute_result"
    }
   ],
   "source": [
    "df_feature.head()"
   ]
  },
  {
   "cell_type": "code",
   "execution_count": 13,
   "metadata": {},
   "outputs": [],
   "source": [
    "from sklearn.model_selection import train_test_split"
   ]
  },
  {
   "cell_type": "code",
   "execution_count": 17,
   "metadata": {},
   "outputs": [],
   "source": [
    "X_train, X_test, y_train, y_test = train_test_split(df_feature, df['TARGET CLASS'], test_size=0.3, random_state=101)"
   ]
  },
  {
   "cell_type": "code",
   "execution_count": 18,
   "metadata": {},
   "outputs": [
    {
     "data": {
      "text/html": [
       "<div>\n",
       "<style scoped>\n",
       "    .dataframe tbody tr th:only-of-type {\n",
       "        vertical-align: middle;\n",
       "    }\n",
       "\n",
       "    .dataframe tbody tr th {\n",
       "        vertical-align: top;\n",
       "    }\n",
       "\n",
       "    .dataframe thead th {\n",
       "        text-align: right;\n",
       "    }\n",
       "</style>\n",
       "<table border=\"1\" class=\"dataframe\">\n",
       "  <thead>\n",
       "    <tr style=\"text-align: right;\">\n",
       "      <th></th>\n",
       "      <th>GWYH</th>\n",
       "      <th>TRAT</th>\n",
       "      <th>TLLZ</th>\n",
       "      <th>IGGA</th>\n",
       "      <th>HYKR</th>\n",
       "      <th>EDFS</th>\n",
       "      <th>GUUB</th>\n",
       "      <th>MGJM</th>\n",
       "      <th>JHZC</th>\n",
       "    </tr>\n",
       "  </thead>\n",
       "  <tbody>\n",
       "    <tr>\n",
       "      <th>290</th>\n",
       "      <td>-0.018554</td>\n",
       "      <td>-0.079399</td>\n",
       "      <td>0.982093</td>\n",
       "      <td>-0.321720</td>\n",
       "      <td>-1.130540</td>\n",
       "      <td>-1.106023</td>\n",
       "      <td>0.194763</td>\n",
       "      <td>-0.452992</td>\n",
       "      <td>-0.322474</td>\n",
       "    </tr>\n",
       "    <tr>\n",
       "      <th>167</th>\n",
       "      <td>-1.689740</td>\n",
       "      <td>0.257413</td>\n",
       "      <td>0.430801</td>\n",
       "      <td>1.234619</td>\n",
       "      <td>-0.092057</td>\n",
       "      <td>0.926614</td>\n",
       "      <td>-0.222843</td>\n",
       "      <td>0.294700</td>\n",
       "      <td>1.333316</td>\n",
       "    </tr>\n",
       "    <tr>\n",
       "      <th>486</th>\n",
       "      <td>-1.169816</td>\n",
       "      <td>0.272174</td>\n",
       "      <td>-0.748102</td>\n",
       "      <td>-0.376545</td>\n",
       "      <td>-1.310755</td>\n",
       "      <td>1.196297</td>\n",
       "      <td>-1.539157</td>\n",
       "      <td>-0.498940</td>\n",
       "      <td>-0.657784</td>\n",
       "    </tr>\n",
       "    <tr>\n",
       "      <th>683</th>\n",
       "      <td>0.386086</td>\n",
       "      <td>0.189835</td>\n",
       "      <td>0.382034</td>\n",
       "      <td>-1.976215</td>\n",
       "      <td>1.200304</td>\n",
       "      <td>1.800290</td>\n",
       "      <td>0.651946</td>\n",
       "      <td>1.203692</td>\n",
       "      <td>-0.173654</td>\n",
       "    </tr>\n",
       "    <tr>\n",
       "      <th>876</th>\n",
       "      <td>-0.412586</td>\n",
       "      <td>1.444908</td>\n",
       "      <td>0.330387</td>\n",
       "      <td>0.656949</td>\n",
       "      <td>0.299770</td>\n",
       "      <td>0.507379</td>\n",
       "      <td>-0.568271</td>\n",
       "      <td>-0.061135</td>\n",
       "      <td>-2.217078</td>\n",
       "    </tr>\n",
       "    <tr>\n",
       "      <th>...</th>\n",
       "      <td>...</td>\n",
       "      <td>...</td>\n",
       "      <td>...</td>\n",
       "      <td>...</td>\n",
       "      <td>...</td>\n",
       "      <td>...</td>\n",
       "      <td>...</td>\n",
       "      <td>...</td>\n",
       "      <td>...</td>\n",
       "    </tr>\n",
       "    <tr>\n",
       "      <th>575</th>\n",
       "      <td>0.062053</td>\n",
       "      <td>-0.705295</td>\n",
       "      <td>-2.079875</td>\n",
       "      <td>-1.449433</td>\n",
       "      <td>-0.799082</td>\n",
       "      <td>1.873326</td>\n",
       "      <td>0.686651</td>\n",
       "      <td>0.346299</td>\n",
       "      <td>-1.130251</td>\n",
       "    </tr>\n",
       "    <tr>\n",
       "      <th>838</th>\n",
       "      <td>2.176742</td>\n",
       "      <td>1.173371</td>\n",
       "      <td>0.141676</td>\n",
       "      <td>-0.375129</td>\n",
       "      <td>0.106478</td>\n",
       "      <td>-0.842854</td>\n",
       "      <td>1.996686</td>\n",
       "      <td>-1.531655</td>\n",
       "      <td>0.001460</td>\n",
       "    </tr>\n",
       "    <tr>\n",
       "      <th>337</th>\n",
       "      <td>0.552590</td>\n",
       "      <td>-1.372636</td>\n",
       "      <td>0.378254</td>\n",
       "      <td>0.916928</td>\n",
       "      <td>0.365400</td>\n",
       "      <td>-1.347375</td>\n",
       "      <td>-0.853849</td>\n",
       "      <td>0.899254</td>\n",
       "      <td>1.316637</td>\n",
       "    </tr>\n",
       "    <tr>\n",
       "      <th>523</th>\n",
       "      <td>0.300187</td>\n",
       "      <td>-1.536335</td>\n",
       "      <td>0.585133</td>\n",
       "      <td>-0.529769</td>\n",
       "      <td>-1.570165</td>\n",
       "      <td>-0.692331</td>\n",
       "      <td>-0.914993</td>\n",
       "      <td>0.394708</td>\n",
       "      <td>-0.117782</td>\n",
       "    </tr>\n",
       "    <tr>\n",
       "      <th>863</th>\n",
       "      <td>-0.988244</td>\n",
       "      <td>0.142134</td>\n",
       "      <td>-0.362477</td>\n",
       "      <td>1.799580</td>\n",
       "      <td>-1.946273</td>\n",
       "      <td>1.264719</td>\n",
       "      <td>0.770453</td>\n",
       "      <td>-0.458790</td>\n",
       "      <td>-0.889258</td>\n",
       "    </tr>\n",
       "  </tbody>\n",
       "</table>\n",
       "<p>700 rows × 9 columns</p>\n",
       "</div>"
      ],
      "text/plain": [
       "         GWYH      TRAT      TLLZ      IGGA      HYKR      EDFS      GUUB  \\\n",
       "290 -0.018554 -0.079399  0.982093 -0.321720 -1.130540 -1.106023  0.194763   \n",
       "167 -1.689740  0.257413  0.430801  1.234619 -0.092057  0.926614 -0.222843   \n",
       "486 -1.169816  0.272174 -0.748102 -0.376545 -1.310755  1.196297 -1.539157   \n",
       "683  0.386086  0.189835  0.382034 -1.976215  1.200304  1.800290  0.651946   \n",
       "876 -0.412586  1.444908  0.330387  0.656949  0.299770  0.507379 -0.568271   \n",
       "..        ...       ...       ...       ...       ...       ...       ...   \n",
       "575  0.062053 -0.705295 -2.079875 -1.449433 -0.799082  1.873326  0.686651   \n",
       "838  2.176742  1.173371  0.141676 -0.375129  0.106478 -0.842854  1.996686   \n",
       "337  0.552590 -1.372636  0.378254  0.916928  0.365400 -1.347375 -0.853849   \n",
       "523  0.300187 -1.536335  0.585133 -0.529769 -1.570165 -0.692331 -0.914993   \n",
       "863 -0.988244  0.142134 -0.362477  1.799580 -1.946273  1.264719  0.770453   \n",
       "\n",
       "         MGJM      JHZC  \n",
       "290 -0.452992 -0.322474  \n",
       "167  0.294700  1.333316  \n",
       "486 -0.498940 -0.657784  \n",
       "683  1.203692 -0.173654  \n",
       "876 -0.061135 -2.217078  \n",
       "..        ...       ...  \n",
       "575  0.346299 -1.130251  \n",
       "838 -1.531655  0.001460  \n",
       "337  0.899254  1.316637  \n",
       "523  0.394708 -0.117782  \n",
       "863 -0.458790 -0.889258  \n",
       "\n",
       "[700 rows x 9 columns]"
      ]
     },
     "execution_count": 18,
     "metadata": {},
     "output_type": "execute_result"
    }
   ],
   "source": [
    "X_train"
   ]
  },
  {
   "cell_type": "code",
   "execution_count": 19,
   "metadata": {},
   "outputs": [
    {
     "data": {
      "text/html": [
       "<div>\n",
       "<style scoped>\n",
       "    .dataframe tbody tr th:only-of-type {\n",
       "        vertical-align: middle;\n",
       "    }\n",
       "\n",
       "    .dataframe tbody tr th {\n",
       "        vertical-align: top;\n",
       "    }\n",
       "\n",
       "    .dataframe thead th {\n",
       "        text-align: right;\n",
       "    }\n",
       "</style>\n",
       "<table border=\"1\" class=\"dataframe\">\n",
       "  <thead>\n",
       "    <tr style=\"text-align: right;\">\n",
       "      <th></th>\n",
       "      <th>GWYH</th>\n",
       "      <th>TRAT</th>\n",
       "      <th>TLLZ</th>\n",
       "      <th>IGGA</th>\n",
       "      <th>HYKR</th>\n",
       "      <th>EDFS</th>\n",
       "      <th>GUUB</th>\n",
       "      <th>MGJM</th>\n",
       "      <th>JHZC</th>\n",
       "    </tr>\n",
       "  </thead>\n",
       "  <tbody>\n",
       "    <tr>\n",
       "      <th>545</th>\n",
       "      <td>-0.599657</td>\n",
       "      <td>1.924813</td>\n",
       "      <td>-0.090185</td>\n",
       "      <td>0.772421</td>\n",
       "      <td>-0.895233</td>\n",
       "      <td>1.479259</td>\n",
       "      <td>-0.298195</td>\n",
       "      <td>-0.401863</td>\n",
       "      <td>-1.296124</td>\n",
       "    </tr>\n",
       "    <tr>\n",
       "      <th>298</th>\n",
       "      <td>-1.221593</td>\n",
       "      <td>-0.952874</td>\n",
       "      <td>-2.510832</td>\n",
       "      <td>0.854841</td>\n",
       "      <td>-0.579728</td>\n",
       "      <td>0.457152</td>\n",
       "      <td>1.344598</td>\n",
       "      <td>0.598795</td>\n",
       "      <td>0.508832</td>\n",
       "    </tr>\n",
       "    <tr>\n",
       "      <th>109</th>\n",
       "      <td>0.087078</td>\n",
       "      <td>-2.071814</td>\n",
       "      <td>-1.640502</td>\n",
       "      <td>-0.691600</td>\n",
       "      <td>1.463442</td>\n",
       "      <td>0.158673</td>\n",
       "      <td>0.279232</td>\n",
       "      <td>0.154550</td>\n",
       "      <td>-0.222792</td>\n",
       "    </tr>\n",
       "    <tr>\n",
       "      <th>837</th>\n",
       "      <td>-1.473391</td>\n",
       "      <td>1.074731</td>\n",
       "      <td>-1.380181</td>\n",
       "      <td>-1.070043</td>\n",
       "      <td>-1.783643</td>\n",
       "      <td>0.818014</td>\n",
       "      <td>-0.662259</td>\n",
       "      <td>-0.185789</td>\n",
       "      <td>0.240667</td>\n",
       "    </tr>\n",
       "    <tr>\n",
       "      <th>194</th>\n",
       "      <td>0.372327</td>\n",
       "      <td>-0.162185</td>\n",
       "      <td>-1.586054</td>\n",
       "      <td>-0.285094</td>\n",
       "      <td>-2.112736</td>\n",
       "      <td>-0.639152</td>\n",
       "      <td>-1.586716</td>\n",
       "      <td>-1.020200</td>\n",
       "      <td>0.558123</td>\n",
       "    </tr>\n",
       "    <tr>\n",
       "      <th>...</th>\n",
       "      <td>...</td>\n",
       "      <td>...</td>\n",
       "      <td>...</td>\n",
       "      <td>...</td>\n",
       "      <td>...</td>\n",
       "      <td>...</td>\n",
       "      <td>...</td>\n",
       "      <td>...</td>\n",
       "      <td>...</td>\n",
       "    </tr>\n",
       "    <tr>\n",
       "      <th>847</th>\n",
       "      <td>-0.081689</td>\n",
       "      <td>-0.840369</td>\n",
       "      <td>0.110726</td>\n",
       "      <td>0.039910</td>\n",
       "      <td>-0.058568</td>\n",
       "      <td>1.499544</td>\n",
       "      <td>-0.589061</td>\n",
       "      <td>-1.074613</td>\n",
       "      <td>-0.364681</td>\n",
       "    </tr>\n",
       "    <tr>\n",
       "      <th>682</th>\n",
       "      <td>-1.595935</td>\n",
       "      <td>-0.635725</td>\n",
       "      <td>1.027217</td>\n",
       "      <td>0.302116</td>\n",
       "      <td>-0.027573</td>\n",
       "      <td>-0.300973</td>\n",
       "      <td>1.587533</td>\n",
       "      <td>0.644500</td>\n",
       "      <td>0.731266</td>\n",
       "    </tr>\n",
       "    <tr>\n",
       "      <th>884</th>\n",
       "      <td>0.504203</td>\n",
       "      <td>0.167427</td>\n",
       "      <td>1.526383</td>\n",
       "      <td>-1.869491</td>\n",
       "      <td>-0.374559</td>\n",
       "      <td>0.723769</td>\n",
       "      <td>2.067418</td>\n",
       "      <td>1.139497</td>\n",
       "      <td>-0.503969</td>\n",
       "    </tr>\n",
       "    <tr>\n",
       "      <th>325</th>\n",
       "      <td>0.077513</td>\n",
       "      <td>0.835837</td>\n",
       "      <td>1.780547</td>\n",
       "      <td>-0.105726</td>\n",
       "      <td>1.668595</td>\n",
       "      <td>-0.948474</td>\n",
       "      <td>1.228552</td>\n",
       "      <td>-0.415257</td>\n",
       "      <td>-0.099650</td>\n",
       "    </tr>\n",
       "    <tr>\n",
       "      <th>482</th>\n",
       "      <td>1.815651</td>\n",
       "      <td>-0.325623</td>\n",
       "      <td>0.710291</td>\n",
       "      <td>1.173538</td>\n",
       "      <td>-0.911059</td>\n",
       "      <td>-0.500978</td>\n",
       "      <td>0.235018</td>\n",
       "      <td>0.124155</td>\n",
       "      <td>-2.188231</td>\n",
       "    </tr>\n",
       "  </tbody>\n",
       "</table>\n",
       "<p>300 rows × 9 columns</p>\n",
       "</div>"
      ],
      "text/plain": [
       "         GWYH      TRAT      TLLZ      IGGA      HYKR      EDFS      GUUB  \\\n",
       "545 -0.599657  1.924813 -0.090185  0.772421 -0.895233  1.479259 -0.298195   \n",
       "298 -1.221593 -0.952874 -2.510832  0.854841 -0.579728  0.457152  1.344598   \n",
       "109  0.087078 -2.071814 -1.640502 -0.691600  1.463442  0.158673  0.279232   \n",
       "837 -1.473391  1.074731 -1.380181 -1.070043 -1.783643  0.818014 -0.662259   \n",
       "194  0.372327 -0.162185 -1.586054 -0.285094 -2.112736 -0.639152 -1.586716   \n",
       "..        ...       ...       ...       ...       ...       ...       ...   \n",
       "847 -0.081689 -0.840369  0.110726  0.039910 -0.058568  1.499544 -0.589061   \n",
       "682 -1.595935 -0.635725  1.027217  0.302116 -0.027573 -0.300973  1.587533   \n",
       "884  0.504203  0.167427  1.526383 -1.869491 -0.374559  0.723769  2.067418   \n",
       "325  0.077513  0.835837  1.780547 -0.105726  1.668595 -0.948474  1.228552   \n",
       "482  1.815651 -0.325623  0.710291  1.173538 -0.911059 -0.500978  0.235018   \n",
       "\n",
       "         MGJM      JHZC  \n",
       "545 -0.401863 -1.296124  \n",
       "298  0.598795  0.508832  \n",
       "109  0.154550 -0.222792  \n",
       "837 -0.185789  0.240667  \n",
       "194 -1.020200  0.558123  \n",
       "..        ...       ...  \n",
       "847 -1.074613 -0.364681  \n",
       "682  0.644500  0.731266  \n",
       "884  1.139497 -0.503969  \n",
       "325 -0.415257 -0.099650  \n",
       "482  0.124155 -2.188231  \n",
       "\n",
       "[300 rows x 9 columns]"
      ]
     },
     "execution_count": 19,
     "metadata": {},
     "output_type": "execute_result"
    }
   ],
   "source": [
    "X_test"
   ]
  },
  {
   "cell_type": "code",
   "execution_count": 44,
   "metadata": {},
   "outputs": [
    {
     "data": {
      "text/plain": [
       "XVPM\n",
       "248.684758     1\n",
       "1266.270996    1\n",
       "1243.962068    1\n",
       "1236.758186    1\n",
       "1047.488718    1\n",
       "              ..\n",
       "1532.187623    1\n",
       "1446.863149    0\n",
       "1402.076198    0\n",
       "656.980071     0\n",
       "1273.616570    1\n",
       "Name: TARGET CLASS, Length: 700, dtype: int64"
      ]
     },
     "execution_count": 44,
     "metadata": {},
     "output_type": "execute_result"
    }
   ],
   "source": [
    "y_train"
   ]
  },
  {
   "cell_type": "code",
   "execution_count": 45,
   "metadata": {},
   "outputs": [
    {
     "data": {
      "text/plain": [
       "XVPM\n",
       "1145.465616    1\n",
       "1703.065445    1\n",
       "1390.453454    0\n",
       "1097.361350    1\n",
       "1243.908774    0\n",
       "              ..\n",
       "525.576341     1\n",
       "617.060897     1\n",
       "1387.907067    0\n",
       "1066.754812    0\n",
       "1058.557700    0\n",
       "Name: TARGET CLASS, Length: 300, dtype: int64"
      ]
     },
     "execution_count": 45,
     "metadata": {},
     "output_type": "execute_result"
    }
   ],
   "source": [
    "y_test"
   ]
  },
  {
   "cell_type": "code",
   "execution_count": 55,
   "metadata": {},
   "outputs": [],
   "source": [
    "from sklearn.neighbors import KNeighborsClassifier"
   ]
  },
  {
   "cell_type": "markdown",
   "metadata": {},
   "source": [
    "# Let's first find range of K for which error_rate will minimum"
   ]
  },
  {
   "cell_type": "code",
   "execution_count": 48,
   "metadata": {},
   "outputs": [],
   "source": [
    "error_rate =[]\n",
    "for i in range(1,40):\n",
    "    knn = KNeighborsClassifier(n_neighbors=i)\n",
    "    knn.fit(X_train,y_train)\n",
    "    predd = knn.predict(X_test)\n",
    "    error_rate.append(np.mean(predd!=y_test))\n",
    "    \n",
    "    "
   ]
  },
  {
   "cell_type": "code",
   "execution_count": 56,
   "metadata": {},
   "outputs": [
    {
     "data": {
      "text/plain": [
       "Text(0, 0.5, 'Error rate')"
      ]
     },
     "execution_count": 56,
     "metadata": {},
     "output_type": "execute_result"
    },
    {
     "data": {
      "image/png": "[encoded data removed]",
      "text/plain": [
       "<Figure size 720x432 with 1 Axes>"
      ]
     },
     "metadata": {},
     "output_type": "display_data"
    }
   ],
   "source": [
    "sns.set_palette('GnBu_r')\n",
    "sns.set_style('whitegrid')\n",
    "plt.figure(figsize=(10,6))\n",
    "plt.plot(range(1,40),error_rate,color='blue',ls='dashed',marker='o',markerfacecolor='red',markersize=10)\n",
    "plt.title('Error rate vs K')\n",
    "plt.xlabel('K')\n",
    "plt.ylabel('Error rate')"
   ]
  },
  {
   "cell_type": "markdown",
   "metadata": {},
   "source": [
    "# After evaluting range of K we got to know that at k=37 we are getting least error_rate so.........\n",
    "   "
   ]
  },
  {
   "cell_type": "code",
   "execution_count": 50,
   "metadata": {},
   "outputs": [],
   "source": [
    "knn = KNeighborsClassifier(n_neighbors=37)"
   ]
  },
  {
   "cell_type": "code",
   "execution_count": 51,
   "metadata": {},
   "outputs": [
    {
     "data": {
      "text/plain": [
       "KNeighborsClassifier(n_neighbors=37)"
      ]
     },
     "execution_count": 51,
     "metadata": {},
     "output_type": "execute_result"
    }
   ],
   "source": [
    "knn.fit(X_train,y_train)"
   ]
  },
  {
   "cell_type": "code",
   "execution_count": 52,
   "metadata": {},
   "outputs": [],
   "source": [
    "predd = knn.predict(X_test)"
   ]
  },
  {
   "cell_type": "code",
   "execution_count": 53,
   "metadata": {},
   "outputs": [],
   "source": [
    "from sklearn.metrics import confusion_matrix, classification_report"
   ]
  },
  {
   "cell_type": "code",
   "execution_count": 54,
   "metadata": {},
   "outputs": [
    {
     "name": "stdout",
     "output_type": "stream",
     "text": [
      "Confusion report\n",
      "[[126  26]\n",
      " [ 23 125]]\n",
      "\n",
      "\n",
      "classfication report\n",
      "              precision    recall  f1-score   support\n",
      "\n",
      "           0       0.85      0.83      0.84       152\n",
      "           1       0.83      0.84      0.84       148\n",
      "\n",
      "    accuracy                           0.84       300\n",
      "   macro avg       0.84      0.84      0.84       300\n",
      "weighted avg       0.84      0.84      0.84       300\n",
      "\n"
     ]
    }
   ],
   "source": [
    "print('Confusion report')\n",
    "print(confusion_matrix(y_test,predd))\n",
    "print('\\n')\n",
    "print('classfication report')\n",
    "print(classification_report(y_test,predd))"
   ]
  },
  {
   "cell_type": "code",
   "execution_count": null,
   "metadata": {},
   "outputs": [],
   "source": []
  }
 ],
 "metadata": {
  "kernelspec": {
   "display_name": "Python 3",
   "language": "python",
   "name": "python3"
  },
  "language_info": {
   "codemirror_mode": {
    "name": "ipython",
    "version": 3
   },
   "file_extension": ".py",
   "mimetype": "text/x-python",
   "name": "python",
   "nbconvert_exporter": "python",
   "pygments_lexer": "ipython3",
   "version": "3.8.3"
  }
 },
 "nbformat": 4,
 "nbformat_minor": 4
}
